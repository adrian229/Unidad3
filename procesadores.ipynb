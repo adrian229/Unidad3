{
 "cells": [
  {
   "cell_type": "code",
   "execution_count": 1,
   "metadata": {},
   "outputs": [
    {
     "name": "stdout",
     "output_type": "stream",
     "text": [
      "[+] En procesador  2\n",
      "[+] En procesador  1\n",
      "\n",
      "\n",
      "[-] procesador 2 finalizado\n",
      "[-] procesador 1 finalizado\n",
      "\n",
      "\n"
     ]
    }
   ],
   "source": [
    "#!/usr/bin/python\n",
    "\n",
    "import threading\n",
    "import time\n",
    "\n",
    "\n",
    "def procesador(i):\n",
    "    \n",
    "    \n",
    "    \"\"\"\n",
    " :param i: numero de procesador a efectos ilustrativos\n",
    " :return: nada\n",
    " \"\"\"\n",
    "    print (\"[+] En procesador  %d\\n\" % i)\n",
    "    time.sleep(3)\n",
    "    print (\"[-] procesador %d finalizado\\n\" % i)\n",
    "\n",
    "# Creacion y Ejecucion de 1 procesador paralelo a procesador 2\n",
    "\n",
    "simplethread=threading.Thread(target=procesador, args=[1])\n",
    "simplethread.start()\n",
    "\n",
    "# Esto se ejecuta como proceso principal\n",
    "\n",
    "procesador(2)\n",
    "# Esperamos a que acabe el procesador paralelo 1\n",
    "simplethread.join()"
   ]
  },
  {
   "cell_type": "code",
   "execution_count": null,
   "metadata": {
    "collapsed": true
   },
   "outputs": [],
   "source": []
  }
 ],
 "metadata": {
  "kernelspec": {
   "display_name": "Python 3",
   "language": "python",
   "name": "python3"
  },
  "language_info": {
   "codemirror_mode": {
    "name": "ipython",
    "version": 3
   },
   "file_extension": ".py",
   "mimetype": "text/x-python",
   "name": "python",
   "nbconvert_exporter": "python",
   "pygments_lexer": "ipython3",
   "version": "3.6.1"
  }
 },
 "nbformat": 4,
 "nbformat_minor": 2
}
