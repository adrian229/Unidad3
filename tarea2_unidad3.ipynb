{
 "cells": [
  {
   "cell_type": "code",
   "execution_count": 9,
   "metadata": {},
   "outputs": [
    {
     "name": "stdout",
     "output_type": "stream",
     "text": [
      "[+] En hilo 1\n",
      "\n",
      "[+] En hilo 2\n",
      "[+] En hilo 3\n",
      "[+] En hilo 4\n",
      "[+] En hilo 5\n",
      "[+] En hilo 6\n",
      "[+] En hilo 7\n",
      "[+] En hilo 8\n",
      "\n",
      "\n",
      "\n",
      "\n",
      "\n",
      "\n",
      "\n",
      "[+] En hilo 9\n",
      "\n",
      "[+] En hilo 10\n",
      "\n",
      "[+] En hilo 11\n",
      "[+] En hilo 12\n",
      "[+] En hilo 13\n",
      "\n",
      "\n",
      "[+] En hilo 14\n",
      "[+] En hilo 15\n",
      "\n",
      "\n",
      "\n",
      "[+] En hilo 16\n",
      "\n",
      "[+] En hilo 17\n",
      "\n",
      "[+] En hilo 18\n",
      "\n",
      "[+] En hilo 19\n",
      "[+] En hilo 20\n",
      "\n",
      "\n",
      "[-] hilo 1 finalizado\n",
      "[-] hilo 2 finalizado\n",
      "[-] hilo 3 finalizado\n",
      "[-] hilo 5 finalizado\n",
      "[-] hilo 4 finalizado\n",
      "[-] hilo 6 finalizado\n",
      "[-] hilo 7 finalizado\n",
      "[-] hilo 8 finalizado\n",
      "[-] hilo 9 finalizado\n",
      "[-] hilo 10 finalizado\n",
      "[-] hilo 11 finalizado\n",
      "[-] hilo 12 finalizado\n",
      "[-] hilo 13 finalizado\n",
      "[-] hilo 14 finalizado\n",
      "[-] hilo 15 finalizado\n",
      "[-] hilo 16 finalizado\n",
      "[-] hilo 17 finalizado[-] hilo 18 finalizado\n",
      "\n",
      "[-] hilo 19 finalizado[-] hilo 20 finalizado\n",
      "[*] all threads finished\n",
      "\n"
     ]
    }
   ],
   "source": [
    "#!/usr/bin/python\n",
    "\n",
    "import threading\n",
    "import time\n",
    "\n",
    "NTHREADS=20\n",
    "\n",
    "def hilo(i):\n",
    "    \"\"\"\n",
    " :param i: numero de hilo a efectos ilustrativos\n",
    " :return: nada\n",
    " \"\"\"\n",
    "    print (\"[+] En hilo %d\\n\" % i)\n",
    "    time.sleep(3)\n",
    "    print (\"[-] hilo %d finalizado\" % i)\n",
    "\n",
    "\n",
    "simplethread=[]\n",
    "for i in range(NTHREADS):\n",
    "    # arranque y comienzo de hilo num i+1\n",
    "    simplethread.append(threading.Thread(target=hilo, args=[i+1]))\n",
    "    simplethread[-1].start()\n",
    "\n",
    "for i in range(NTHREADS):\n",
    "    # esperamos que acabe el hilo num i\n",
    " simplethread[i].join()\n",
    "\n",
    "print (\"[*] all threads finished\")"
   ]
  },
  {
   "cell_type": "code",
   "execution_count": null,
   "metadata": {
    "collapsed": true
   },
   "outputs": [],
   "source": []
  }
 ],
 "metadata": {
  "kernelspec": {
   "display_name": "Python 3",
   "language": "python",
   "name": "python3"
  },
  "language_info": {
   "codemirror_mode": {
    "name": "ipython",
    "version": 3
   },
   "file_extension": ".py",
   "mimetype": "text/x-python",
   "name": "python",
   "nbconvert_exporter": "python",
   "pygments_lexer": "ipython3",
   "version": "3.6.1"
  }
 },
 "nbformat": 4,
 "nbformat_minor": 2
}
