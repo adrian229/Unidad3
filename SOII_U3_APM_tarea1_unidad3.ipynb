{
 "cells": [
  {
   "cell_type": "code",
   "execution_count": 1,
   "metadata": {},
   "outputs": [
    {
     "name": "stdout",
     "output_type": "stream",
     "text": [
      "[+] En hilo 2\n",
      "[+] En hilo 1\n",
      "\n",
      "\n",
      "[-] hilo 1 finalizado\n",
      "[-] hilo 2 finalizado\n",
      "\n",
      "\n"
     ]
    }
   ],
   "source": [
    "#!/usr/bin/python\n",
    "\n",
    "import threading\n",
    "import time\n",
    "\n",
    "\n",
    "def hilo(i):\n",
    "    \"\"\"\n",
    " :param i: numero de hilo a efectos ilustrativos\n",
    " :return: nada\n",
    " \"\"\"\n",
    "    print (\"[+] En hilo %d\\n\" % i)\n",
    "    time.sleep(3)\n",
    "    print (\"[-] hilo %d finalizado\\n\" % i)\n",
    "\n",
    "# Creacion y Ejecucion de 1 hilo paralelo a hilo 2\n",
    "\n",
    "simplethread=threading.Thread(target=hilo, args=[1])\n",
    "simplethread.start()\n",
    "\n",
    "# Esto se ejecuta como proceso principal\n",
    "\n",
    "hilo(2)\n",
    "# Esperamos a que acabe el hilo paralelo 1\n",
    "simplethread.join()"
   ]
  },
  {
   "cell_type": "code",
   "execution_count": null,
   "metadata": {
    "collapsed": true
   },
   "outputs": [],
   "source": []
  }
 ],
 "metadata": {
  "kernelspec": {
   "display_name": "Python 3",
   "language": "python",
   "name": "python3"
  },
  "language_info": {
   "codemirror_mode": {
    "name": "ipython",
    "version": 3
   },
   "file_extension": ".py",
   "mimetype": "text/x-python",
   "name": "python",
   "nbconvert_exporter": "python",
   "pygments_lexer": "ipython3",
   "version": "3.6.1"
  }
 },
 "nbformat": 4,
 "nbformat_minor": 2
}
